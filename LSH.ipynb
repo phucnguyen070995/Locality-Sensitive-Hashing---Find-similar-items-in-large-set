{
 "cells": [
  {
   "cell_type": "code",
   "execution_count": 1,
   "id": "660a7096",
   "metadata": {},
   "outputs": [],
   "source": [
    "from pyspark.sql import SparkSession\n",
    "spark = SparkSession.\\\n",
    "        builder.\\\n",
    "        appName(\"pyspark-notebook\").\\\n",
    "        master(\"spark://spark-master:7077\").\\\n",
    "        config(\"spark.executor.memory\", \"512m\").\\\n",
    "        getOrCreate()"
   ]
  },
  {
   "cell_type": "code",
   "execution_count": 2,
   "id": "3d2f6918",
   "metadata": {},
   "outputs": [],
   "source": [
    "import os\n",
    "import time\n",
    "import itertools\n",
    "import collections\n",
    "import numpy as np\n",
    "import matplotlib.pyplot as plt"
   ]
  },
  {
   "cell_type": "code",
   "execution_count": 3,
   "id": "3f516491",
   "metadata": {},
   "outputs": [
    {
     "name": "stdout",
     "output_type": "stream",
     "text": [
      "['article5.txt', 'article2.txt', 'article1.txt', 'article6.txt', '.ipynb_checkpoints', 'stopwords.txt', 'article3.txt', 'article4.txt']\n",
      "Average char-length: 3627.1666666666665\n",
      "Min char-length: 2412\n",
      "Max char-length: 5873\n"
     ]
    }
   ],
   "source": [
    "import os\n",
    "TARGET = 'sampledocs/'\n",
    "print(os.listdir(TARGET))\n",
    "documents = []\n",
    "for article in os.listdir(TARGET):\n",
    "    if article == 'stopwords.txt':\n",
    "        continue\n",
    "    if article == '.ipynb_checkpoints':\n",
    "        continue\n",
    "    path = os.path.join(TARGET, article)\n",
    "    with open(path, 'r') as file:\n",
    "        documents.append(file.read())\n",
    "        \n",
    "stopwords = []\n",
    "with open(os.path.join(TARGET, 'stopwords.txt'), 'r') as file:\n",
    "    for line in file:\n",
    "        stopwords.append(line.strip())\n",
    "        \n",
    "        \n",
    "for i, doc in enumerate(documents):\n",
    "    doc = doc.strip().replace('\\n', ' ').lower()\n",
    "    for word in stopwords:\n",
    "        doc = doc.replace(' '+word+' ', ' ')\n",
    "    documents[i] = doc\n",
    "\n",
    "print(f\"Average char-length: \\\n",
    "{np.mean(np.array([len(x) for x in documents]))}\")\n",
    "print(f\"Min char-length: {min(len(x) for x in documents)}\")\n",
    "print(f\"Max char-length: {max(len(x) for x in documents)}\")"
   ]
  },
  {
   "cell_type": "code",
   "execution_count": 4,
   "id": "4dba2a97",
   "metadata": {},
   "outputs": [
    {
     "name": "stdout",
     "output_type": "stream",
     "text": [
      "Found 3953 unique shingles, out of 5873 possible.\n",
      "Found 2091 unique shingles, out of 3291 possible.\n",
      "Found 2060 unique shingles, out of 3009 possible.\n",
      "Found 2245 unique shingles, out of 3505 possible.\n",
      "Found 2782 unique shingles, out of 3673 possible.\n",
      "Found 1918 unique shingles, out of 2412 possible.\n"
     ]
    }
   ],
   "source": [
    "def getShingles(str1, K=5):\n",
    "    d1 = set()\n",
    "    for i in range(len(str1)-K):\n",
    "        d1.add(str1[i:i+K])\n",
    "    print(f\"Found {len(d1)} unique shingles, out of {len(str1)} possible.\")\n",
    "    return d1\n",
    "doc_shingles = [getShingles(s, 5) for s in documents]"
   ]
  },
  {
   "cell_type": "code",
   "execution_count": 6,
   "id": "d53b4bf9",
   "metadata": {},
   "outputs": [
    {
     "name": "stdout",
     "output_type": "stream",
     "text": [
      "**~~~~~~ True similarity scores ~~~~~~**\n",
      "Pair\tScore\n",
      "--------------\n",
      "(0, 1)\t0.294\n",
      "(0, 2)\t0.336\n",
      "(0, 3)\t0.384\n",
      "(0, 4)\t0.083\n",
      "(0, 5)\t0.400\n",
      "(1, 2)\t0.093\n",
      "(1, 3)\t0.704\n",
      "(1, 4)\t0.081\n",
      "(1, 5)\t0.051\n",
      "(2, 3)\t0.090\n",
      "(2, 4)\t0.069\n",
      "(2, 5)\t0.050\n",
      "(3, 4)\t0.079\n",
      "(3, 5)\t0.178\n",
      "(4, 5)\t0.052\n"
     ]
    }
   ],
   "source": [
    "def jaccardSim(d1,d2):\n",
    "    return len(d1.intersection(d2))/len(d1.union(d2))\n",
    "\n",
    "# itertools.combinations finds all (,n) n-pairs\n",
    "# then we use a map op on the tuples with jaccardSim\n",
    "pairs = itertools.combinations(documents, 2)\n",
    "pair_labels = []\n",
    "pair_sims = []\n",
    "for x1, x2 in itertools.combinations(zip(range(len(doc_shingles)),doc_shingles), 2):\n",
    "    pair_labels.append((x1[0],x2[0]))\n",
    "    pair_sims.append(jaccardSim(x1[1],x2[1]))\n",
    "    \n",
    "print(f\"**~~~~~~ True similarity scores ~~~~~~**\")\n",
    "print(\"Pair\\tScore\")\n",
    "print(\"-\"*14)\n",
    "for pair, score in zip(pair_labels, pair_sims):\n",
    "    print(f\"{pair}\\t{score:.3f}\")"
   ]
  },
  {
   "cell_type": "code",
   "execution_count": 7,
   "id": "3cbf8286",
   "metadata": {},
   "outputs": [
    {
     "name": "stdout",
     "output_type": "stream",
     "text": [
      "There are 7538 shingles\n"
     ]
    }
   ],
   "source": [
    "# Take union of all sets. Convert to an array and assign\n",
    "# each element an integer based on position in array\n",
    "fullset = set.union(*doc_shingles)\n",
    "shingle_dict = dict(zip(list(fullset),range(len(fullset))))\n",
    "print(f\"There are {len(shingle_dict)} shingles\")"
   ]
  },
  {
   "cell_type": "code",
   "execution_count": 8,
   "id": "d3daa031",
   "metadata": {},
   "outputs": [
    {
     "name": "stdout",
     "output_type": "stream",
     "text": [
      "Initialization test: passed\n",
      "Set parameters to right size: passed\n",
      "Permuting a row integer returns array: passed\n",
      "Compute minhashed signature matrix: passed\n"
     ]
    }
   ],
   "source": [
    "# Create a hash function\n",
    "# define as a callable class, so that we only\n",
    "# intialize random functions once\n",
    "class HashManager():\n",
    "    def __init__(self, shingle_dict):\n",
    "        self.shingle_dict = shingle_dict\n",
    "        self.N = len(shingle_dict)\n",
    "        self.params = None\n",
    "        \n",
    "    def _initParams(self, n_sig):\n",
    "        self.params = np.random.randint(self.N, size=[n_sig,2])\n",
    "    \n",
    "    def _permuteRow(self, row):\n",
    "        return (self.params@np.array([1,row]))%self.N\n",
    "    \n",
    "    def __call__(self, docs, n_sig, init=True):\n",
    "        # Initialize if we change signature matrix length\n",
    "        # or if we request to re-initialize\n",
    "        if self.params is None or len(self.params) != n_sig or init:\n",
    "            self._initParams(n_sig)\n",
    "            \n",
    "        #initialize signature matrix\n",
    "        sig = np.full((n_sig, len(docs)), np.inf)\n",
    "        \n",
    "        # each doc in docs is assumed to be an iterable object\n",
    "        for j, doc in enumerate(docs):\n",
    "            for shingle in doc:\n",
    "                orig_row = shingle_dict[shingle]\n",
    "                curr_col = self._permuteRow(orig_row)\n",
    "                sig[:,j] = np.minimum(sig[:,j],curr_col)\n",
    "        return sig.astype(int)\n",
    "    \n",
    "# run some tests:\n",
    "try:\n",
    "    print(\"Initialization test: \", end=\"\")\n",
    "    hm = HashManager(shingle_dict)\n",
    "    print(\"passed\")\n",
    "\n",
    "    print(\"Set parameters to right size: \", end=\"\")\n",
    "    hm._initParams(n_sig=4)\n",
    "    assert(hm.params.shape == (4,2))\n",
    "    print(\"passed\")\n",
    "\n",
    "    print(\"Permuting a row integer returns array: \", end=\"\")\n",
    "    curr_col = hm._permuteRow(3)\n",
    "    assert(curr_col.shape == (4,))\n",
    "    print(\"passed\")\n",
    "\n",
    "    print(\"Compute minhashed signature matrix: \", end=\"\")\n",
    "    hm(doc_shingles, 4)\n",
    "    print(\"passed\")\n",
    "except Exception as e:\n",
    "    print(\"failure\")\n",
    "    print(e.args)"
   ]
  },
  {
   "cell_type": "code",
   "execution_count": 9,
   "id": "6171193b",
   "metadata": {},
   "outputs": [],
   "source": [
    "hm = HashManager(shingle_dict)"
   ]
  },
  {
   "cell_type": "code",
   "execution_count": 10,
   "id": "228b0e1b",
   "metadata": {},
   "outputs": [
    {
     "name": "stdout",
     "output_type": "stream",
     "text": [
      "**~~~~~~ Similarity score comparison ~~~~~~**\n",
      "Pair\t\tApprox\t\tTrue\t\t%Error\n",
      "(0, 1)\t\t0.500\t\t0.294\t\t69.78\n",
      "(0, 2)\t\t0.400\t\t0.336\t\t18.97\n",
      "(0, 3)\t\t0.500\t\t0.384\t\t30.17\n",
      "(0, 4)\t\t0.200\t\t0.083\t\t141.05\n",
      "(0, 5)\t\t0.600\t\t0.400\t\t49.93\n",
      "(1, 2)\t\t0.300\t\t0.093\t\t221.78\n",
      "(1, 3)\t\t0.800\t\t0.704\t\t13.68\n",
      "(1, 4)\t\t0.200\t\t0.081\t\t147.01\n",
      "(1, 5)\t\t0.200\t\t0.051\t\t289.08\n",
      "(2, 3)\t\t0.300\t\t0.090\t\t233.80\n",
      "(2, 4)\t\t0.000\t\t0.069\t\t100.00\n",
      "(2, 5)\t\t0.100\t\t0.050\t\t100.48\n",
      "(3, 4)\t\t0.200\t\t0.079\t\t152.47\n",
      "(3, 5)\t\t0.400\t\t0.178\t\t125.16\n",
      "(4, 5)\t\t0.200\t\t0.052\t\t286.93\n",
      "True pairs: {(0, 1), (1, 3), (0, 5), (0, 3), (0, 2)}\n",
      "Candidate pairs: {(0, 1), (1, 2), (1, 3), (0, 5), (2, 3), (0, 3), (0, 2), (3, 5)}\n",
      "False negatives: 0\n",
      "Potential false positives: 4\n"
     ]
    }
   ],
   "source": [
    "def trueSimScores(doc_shingles):\n",
    "    pair_labels = []\n",
    "    pair_sims = []\n",
    "    idxs = range(len(doc_shingles))\n",
    "    for x1, x2 in itertools.combinations(zip(idxs,doc_shingles), 2):\n",
    "        pair_labels.append((x1[0], x2[0]))\n",
    "        pair_sims.append(jaccardSim(x1[1], x2[1]))\n",
    "    return dict(zip(pair_labels, pair_sims))\n",
    "    \n",
    "def sigSimScores(sig_mat):\n",
    "#     cols = [sig_mat[:,i] for i in range(sig_mat.shape[1])]\n",
    "    cols = sig_mat.T\n",
    "    idxs = range(sig_mat.shape[1])\n",
    "    \n",
    "    pair_labels = []\n",
    "    pair_sims = []\n",
    "    for (i,col1), (j,col2) in itertools.combinations(zip(idxs, cols),2):\n",
    "        pair_labels.append((i,j))\n",
    "        pair_sims.append(np.mean(col1==col2))\n",
    "    \n",
    "    return dict(zip(pair_labels, pair_sims))\n",
    "\n",
    "def printScoreComparison(true_dict, approx_dict):\n",
    "    print(f\"**~~~~~~ Similarity score comparison ~~~~~~**\")\n",
    "    print(\"Pair\\t\\tApprox\\t\\tTrue\\t\\t%Error\")\n",
    "    for pair, true_value in true_dict.items():\n",
    "        approx_value = approx_dict[pair]\n",
    "        err = 100*abs(true_value-approx_value)/true_value\n",
    "        print(f\"{pair}\\t\\t{approx_value:.3f}\\t\\t{true_value:.3f}\\t\\t{err:.2f}\")\n",
    "\n",
    "def candidatePairs(score_dict, threshold):\n",
    "    return set(pair for pair, scr in score_dict.items() if scr>=threshold)\n",
    "\n",
    "def accMatrix(true_dict, approx_dict, threshold):\n",
    "    true_pairs = candidatePairs(true_dict, threshold)\n",
    "    approx_pairs = candidatePairs(approx_dict, threshold)\n",
    "    false_negatives = len(true_pairs - approx_pairs)\n",
    "    false_positives = len(approx_pairs - true_pairs)\n",
    "    print(f\"False negatives: {false_negatives}\")\n",
    "    print(f\"Potential false positives: {false_positives}\")\n",
    "\n",
    "sig_mat = hm(doc_shingles, 10)\n",
    "true_score_dict = trueSimScores(doc_shingles)\n",
    "approx_score_dict = sigSimScores(sig_mat)\n",
    "printScoreComparison(true_score_dict, approx_score_dict)\n",
    "\n",
    "print(\"True pairs:\",candidatePairs(true_score_dict, 0.25))\n",
    "print(\"Candidate pairs:\",candidatePairs(approx_score_dict, 0.25))\n",
    "accMatrix(true_score_dict, approx_score_dict, 0.4)"
   ]
  },
  {
   "cell_type": "code",
   "execution_count": 73,
   "id": "ebe5cbfb",
   "metadata": {},
   "outputs": [
    {
     "name": "stdout",
     "output_type": "stream",
     "text": [
      "True pairs: {(0, 2), (0, 4)}\n",
      "LSH pairs: {(0, 1), (0, 2), (0, 4)}\n",
      "Vanilla MinHash pairs: {(0, 1), (0, 2), (0, 4)}\n",
      "**~~~~~~ Similarity score comparison ~~~~~~**\n",
      "Pair\t\tApprox\t\tTrue\t\t%Error\n",
      "(0, 1)\t\t0.383\t\t0.294\t\t30.17\n",
      "(0, 2)\t\t0.400\t\t0.336\t\t18.97\n",
      "(0, 3)\t\t0.175\t\t0.083\t\t110.92\n",
      "(0, 4)\t\t0.508\t\t0.400\t\t27.02\n",
      "(1, 2)\t\t0.175\t\t0.093\t\t87.70\n",
      "(1, 3)\t\t0.125\t\t0.081\t\t54.38\n",
      "(1, 4)\t\t0.183\t\t0.051\t\t256.66\n",
      "(2, 3)\t\t0.167\t\t0.069\t\t141.99\n",
      "(2, 4)\t\t0.150\t\t0.050\t\t200.71\n",
      "(3, 4)\t\t0.133\t\t0.052\t\t157.95\n"
     ]
    }
   ],
   "source": [
    "def bandedCandidatePair(col1, col2, b, r):\n",
    "    \"\"\"Returns a boolean if the two columns are a candidate pair\n",
    "    inputs must obey n=len(col1)=len(col2)=b*r\"\"\"\n",
    "    n = len(col1)\n",
    "    assert(n==b*r)\n",
    "    assert(n==len(col2))\n",
    "    truth_array = (col1==col2)\n",
    "    return any(all(band) for band in np.array_split(truth_array,b))\n",
    "\n",
    "def bandedCandidatePairs(sig_mat, b, r):\n",
    "    d = sig_mat.shape[1]\n",
    "    idxs = range(d)\n",
    "    cols = [sig_mat[:,i] for i in range(d)]\n",
    "    pairs = set()\n",
    "    for (i,col1), (j,col2) in itertools.combinations(zip(idxs,cols),2):\n",
    "        if bandedCandidatePair(col1,col2,b,r):\n",
    "            pairs.add((i,j))\n",
    "    return pairs\n",
    "\n",
    "# set p = 0.3 arbitrarily\n",
    "p = 0.3\n",
    "n = 120\n",
    "b = 30\n",
    "r = 4\n",
    "\n",
    "# see how many candidate pairs we got right!\n",
    "sig_mat = hm(doc_shingles, n)\n",
    "true_score_dict = trueSimScores(doc_shingles)\n",
    "approx_score_dict = sigSimScores(sig_mat)\n",
    "print(\"True pairs:\",candidatePairs(true_score_dict, p))\n",
    "print(\"LSH pairs:\",bandedCandidatePairs(sig_mat, b, r))\n",
    "print(\"Vanilla MinHash pairs:\",candidatePairs(approx_score_dict, p))\n",
    "# accMatrix(true_score_dict, approx_score_dict, 0.4)\n",
    "\n",
    "# sig_mat = hm(doc_shingles, n)\n",
    "# true_score_dict = trueSimScores(doc_shingles)\n",
    "printScoreComparison(true_score_dict, approx_score_dict)"
   ]
  },
  {
   "cell_type": "code",
   "execution_count": null,
   "id": "4a5937db",
   "metadata": {},
   "outputs": [],
   "source": []
  }
 ],
 "metadata": {
  "kernelspec": {
   "display_name": "Python 3",
   "language": "python",
   "name": "python3"
  },
  "language_info": {
   "codemirror_mode": {
    "name": "ipython",
    "version": 3
   },
   "file_extension": ".py",
   "mimetype": "text/x-python",
   "name": "python",
   "nbconvert_exporter": "python",
   "pygments_lexer": "ipython3",
   "version": "3.7.3"
  }
 },
 "nbformat": 4,
 "nbformat_minor": 5
}
